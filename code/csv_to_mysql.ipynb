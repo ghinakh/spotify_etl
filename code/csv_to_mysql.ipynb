{
  "cells": [
    {
      "cell_type": "code",
      "execution_count": 17,
      "metadata": {
        "id": "Vd05p2jdST_9"
      },
      "outputs": [],
      "source": [
        "import mysql.connector\n",
        "from mysql.connector import Error\n",
        "import pandas as pd\n",
        "import os"
      ]
    },
    {
      "cell_type": "code",
      "execution_count": 20,
      "metadata": {
        "id": "DkdayWxBY7ne"
      },
      "outputs": [],
      "source": [
        "base_dir = os.getcwd()\n",
        "\n",
        "# csv file path\n",
        "csv_songs_path = os.path.join(base_dir, \"..\", \"data\", \"songs.csv\")\n",
        "csv_users_path = os.path.join(base_dir, \"..\", \"data\", \"users.csv\")\n",
        "\n",
        "# table name\n",
        "table_songs = \"songs\"\n",
        "table_users = \"users\""
      ]
    },
    {
      "cell_type": "code",
      "execution_count": 21,
      "metadata": {
        "id": "QZ75Lpg2TB2q"
      },
      "outputs": [],
      "source": [
        "songs = pd.read_csv(csv_songs_path)\n",
        "users =pd.read_csv(csv_users_path)"
      ]
    },
    {
      "cell_type": "code",
      "execution_count": 25,
      "metadata": {},
      "outputs": [
        {
          "data": {
            "text/plain": [
              "((89741, 21), (50000, 5))"
            ]
          },
          "execution_count": 25,
          "metadata": {},
          "output_type": "execute_result"
        }
      ],
      "source": [
        "songs.shape, users.shape"
      ]
    },
    {
      "cell_type": "code",
      "execution_count": 27,
      "metadata": {
        "colab": {
          "base_uri": "https://localhost:8080/"
        },
        "id": "jX1WUJEbYrsm",
        "outputId": "44cde9cc-9ce9-43be-ec9c-31f89ac87189"
      },
      "outputs": [
        {
          "name": "stdout",
          "output_type": "stream",
          "text": [
            "CREATE TABLE {table_songs} (\n",
            "    id INT,\n",
            "    track_id VARCHAR(255),\n",
            "    artists VARCHAR(255),\n",
            "    album_name VARCHAR(255),\n",
            "    track_name VARCHAR(255),\n",
            "    popularity INT,\n",
            "    duration_ms INT,\n",
            "    explicit BOOLEAN,\n",
            "    danceability FLOAT,\n",
            "    energy FLOAT,\n",
            "    key INT,\n",
            "    loudness FLOAT,\n",
            "    mode INT,\n",
            "    speechiness FLOAT,\n",
            "    acousticness FLOAT,\n",
            "    instrumentalness FLOAT,\n",
            "    liveness FLOAT,\n",
            "    valence FLOAT,\n",
            "    tempo FLOAT,\n",
            "    time_signature INT,\n",
            "    track_genre VARCHAR(255)\n",
            ");\n"
          ]
        }
      ],
      "source": [
        "def generate_create_table(df, table_name=\"A\"):\n",
        "    dtype_map = {\n",
        "        \"object\": \"VARCHAR(255)\",\n",
        "        \"int64\": \"INT\",\n",
        "        \"float64\": \"FLOAT\",\n",
        "        \"bool\": \"BOOLEAN\",\n",
        "    }\n",
        "\n",
        "    columns = []\n",
        "    for col in df.columns:\n",
        "        dtype = str(df[col].dtype)\n",
        "        sql_type = dtype_map.get(dtype, \"TEXT\")  # fallback ke TEXT kalau tipe tidak dikenali\n",
        "        columns.append(f\"    {col} {sql_type}\")\n",
        "\n",
        "    columns_str = \",\\n\".join(columns)\n",
        "    create_stmt = f\"CREATE TABLE {table_name} (\\n{columns_str}\\n);\"\n",
        "    return create_stmt\n",
        "\n",
        "print(generate_create_table(songs, '{table_songs}'))"
      ]
    },
    {
      "cell_type": "code",
      "execution_count": 28,
      "metadata": {
        "colab": {
          "base_uri": "https://localhost:8080/"
        },
        "id": "oT9qjGVeZW5l",
        "outputId": "b2fc991c-6970-4c0a-d0b0-c895d89bc073"
      },
      "outputs": [
        {
          "name": "stdout",
          "output_type": "stream",
          "text": [
            "CREATE TABLE {table_users} (\n",
            "    user_id INT,\n",
            "    user_name VARCHAR(255),\n",
            "    user_age INT,\n",
            "    user_country VARCHAR(255),\n",
            "    created_at VARCHAR(255)\n",
            ");\n"
          ]
        }
      ],
      "source": [
        "print(generate_create_table(users, '{table_users}'))"
      ]
    },
    {
      "cell_type": "code",
      "execution_count": 29,
      "metadata": {
        "id": "WZ2dAkq6b0rO"
      },
      "outputs": [],
      "source": [
        "def generate_insert_into(df, table_name=\"A\"):\n",
        "    columns = df.columns.tolist()\n",
        "    columns_str = \", \".join(columns)\n",
        "    placeholders = \", \".join([\"%s\"] * len(columns))\n",
        "    insert_stmt = f\"INSERT INTO {table_name} ({columns_str}) VALUES ({placeholders});\"\n",
        "    return insert_stmt"
      ]
    },
    {
      "cell_type": "code",
      "execution_count": 30,
      "metadata": {
        "colab": {
          "base_uri": "https://localhost:8080/",
          "height": 52
        },
        "id": "4Wzs7CLZb2Ny",
        "outputId": "b9bc1de6-4cfc-446e-cd01-5b85f4dcf8b6"
      },
      "outputs": [
        {
          "data": {
            "text/plain": [
              "'INSERT INTO {table_songs} (id, track_id, artists, album_name, track_name, popularity, duration_ms, explicit, danceability, energy, key, loudness, mode, speechiness, acousticness, instrumentalness, liveness, valence, tempo, time_signature, track_genre) VALUES (%s, %s, %s, %s, %s, %s, %s, %s, %s, %s, %s, %s, %s, %s, %s, %s, %s, %s, %s, %s, %s);'"
            ]
          },
          "execution_count": 30,
          "metadata": {},
          "output_type": "execute_result"
        }
      ],
      "source": [
        "generate_insert_into(songs, '{table_songs}')"
      ]
    },
    {
      "cell_type": "code",
      "execution_count": 31,
      "metadata": {
        "colab": {
          "base_uri": "https://localhost:8080/",
          "height": 35
        },
        "id": "QlMFtkpMdSCA",
        "outputId": "5ac3268d-b523-47b3-da8f-94ee7d998516"
      },
      "outputs": [
        {
          "data": {
            "text/plain": [
              "'INSERT INTO {table_users} (user_id, user_name, user_age, user_country, created_at) VALUES (%s, %s, %s, %s, %s);'"
            ]
          },
          "execution_count": 31,
          "metadata": {},
          "output_type": "execute_result"
        }
      ],
      "source": [
        "generate_insert_into(users, '{table_users}')"
      ]
    }
  ],
  "metadata": {
    "colab": {
      "provenance": []
    },
    "kernelspec": {
      "display_name": "spotify_pipeline_env",
      "language": "python",
      "name": "python3"
    },
    "language_info": {
      "codemirror_mode": {
        "name": "ipython",
        "version": 3
      },
      "file_extension": ".py",
      "mimetype": "text/x-python",
      "name": "python",
      "nbconvert_exporter": "python",
      "pygments_lexer": "ipython3",
      "version": "3.12.0"
    }
  },
  "nbformat": 4,
  "nbformat_minor": 0
}
