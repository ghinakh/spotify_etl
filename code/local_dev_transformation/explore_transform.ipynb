{
 "cells": [
  {
   "cell_type": "code",
   "execution_count": 23,
   "id": "b47e9f0e",
   "metadata": {},
   "outputs": [],
   "source": [
    "import pandas as pd\n",
    "import os"
   ]
  },
  {
   "cell_type": "markdown",
   "id": "05edaece",
   "metadata": {},
   "source": [
    "#### import files local"
   ]
  },
  {
   "cell_type": "code",
   "execution_count": 13,
   "id": "93144539",
   "metadata": {},
   "outputs": [],
   "source": [
    "base_dir = os.getcwd()"
   ]
  },
  {
   "cell_type": "code",
   "execution_count": 14,
   "id": "01293bbf",
   "metadata": {},
   "outputs": [],
   "source": [
    "# csv file path\n",
    "csv_songs_path = os.path.join(os.path.dirname(base_dir), \"..\", \"data\", \"songs.csv\")\n",
    "csv_users_path = os.path.join(os.path.dirname(base_dir), \"..\", \"data\", \"users.csv\")\n",
    "csv_stream_folder = os.path.join(os.path.dirname(base_dir), \"..\", \"data\")\n",
    "\n",
    "df_songs = pd.read_csv(csv_songs_path)\n",
    "df_users =pd.read_csv(csv_users_path)\n",
    "df1 = pd.read_csv(f\"{csv_stream_folder}\\\\streams1.csv\")\n",
    "df2 = pd.read_csv(f\"{csv_stream_folder}\\\\streams2.csv\")\n",
    "df3 = pd.read_csv(f\"{csv_stream_folder}\\\\streams3.csv\")\n",
    "df_streams = pd.concat([df1, df2, df3], ignore_index=True)"
   ]
  },
  {
   "cell_type": "markdown",
   "id": "5fe565e5",
   "metadata": {},
   "source": [
    "#### Cleaning"
   ]
  },
  {
   "cell_type": "code",
   "execution_count": 15,
   "id": "8392fa63",
   "metadata": {},
   "outputs": [
    {
     "name": "stdout",
     "output_type": "stream",
     "text": [
      "<class 'pandas.core.frame.DataFrame'>\n",
      "RangeIndex: 89741 entries, 0 to 89740\n",
      "Data columns (total 21 columns):\n",
      " #   Column            Non-Null Count  Dtype  \n",
      "---  ------            --------------  -----  \n",
      " 0   id                89741 non-null  int64  \n",
      " 1   track_id          89741 non-null  object \n",
      " 2   artists           89740 non-null  object \n",
      " 3   album_name        89740 non-null  object \n",
      " 4   track_name        89740 non-null  object \n",
      " 5   popularity        89741 non-null  int64  \n",
      " 6   duration_ms       89741 non-null  int64  \n",
      " 7   explicit          89741 non-null  bool   \n",
      " 8   danceability      89741 non-null  float64\n",
      " 9   energy            89741 non-null  float64\n",
      " 10  key               89741 non-null  int64  \n",
      " 11  loudness          89741 non-null  float64\n",
      " 12  mode              89741 non-null  int64  \n",
      " 13  speechiness       89741 non-null  float64\n",
      " 14  acousticness      89741 non-null  float64\n",
      " 15  instrumentalness  89741 non-null  float64\n",
      " 16  liveness          89741 non-null  float64\n",
      " 17  valence           89741 non-null  float64\n",
      " 18  tempo             89741 non-null  float64\n",
      " 19  time_signature    89741 non-null  int64  \n",
      " 20  track_genre       89741 non-null  object \n",
      "dtypes: bool(1), float64(9), int64(6), object(5)\n",
      "memory usage: 13.8+ MB\n",
      "<class 'pandas.core.frame.DataFrame'>\n",
      "RangeIndex: 50000 entries, 0 to 49999\n",
      "Data columns (total 5 columns):\n",
      " #   Column        Non-Null Count  Dtype \n",
      "---  ------        --------------  ----- \n",
      " 0   user_id       50000 non-null  int64 \n",
      " 1   user_name     50000 non-null  object\n",
      " 2   user_age      50000 non-null  int64 \n",
      " 3   user_country  50000 non-null  object\n",
      " 4   created_at    50000 non-null  object\n",
      "dtypes: int64(2), object(3)\n",
      "memory usage: 1.9+ MB\n",
      "<class 'pandas.core.frame.DataFrame'>\n",
      "RangeIndex: 34038 entries, 0 to 34037\n",
      "Data columns (total 3 columns):\n",
      " #   Column       Non-Null Count  Dtype \n",
      "---  ------       --------------  ----- \n",
      " 0   user_id      34038 non-null  int64 \n",
      " 1   track_id     34038 non-null  object\n",
      " 2   listen_time  34038 non-null  object\n",
      "dtypes: int64(1), object(2)\n",
      "memory usage: 797.9+ KB\n"
     ]
    },
    {
     "data": {
      "text/plain": [
       "(None, None, None)"
      ]
     },
     "execution_count": 15,
     "metadata": {},
     "output_type": "execute_result"
    }
   ],
   "source": [
    "# validate data type\n",
    "\n",
    "df_songs.info(), df_users.info(), df_streams.info()"
   ]
  },
  {
   "cell_type": "code",
   "execution_count": 16,
   "id": "d83d46f6",
   "metadata": {},
   "outputs": [
    {
     "data": {
      "text/html": [
       "<div>\n",
       "<style scoped>\n",
       "    .dataframe tbody tr th:only-of-type {\n",
       "        vertical-align: middle;\n",
       "    }\n",
       "\n",
       "    .dataframe tbody tr th {\n",
       "        vertical-align: top;\n",
       "    }\n",
       "\n",
       "    .dataframe thead th {\n",
       "        text-align: right;\n",
       "    }\n",
       "</style>\n",
       "<table border=\"1\" class=\"dataframe\">\n",
       "  <thead>\n",
       "    <tr style=\"text-align: right;\">\n",
       "      <th></th>\n",
       "      <th>id</th>\n",
       "      <th>track_id</th>\n",
       "      <th>artists</th>\n",
       "      <th>album_name</th>\n",
       "      <th>track_name</th>\n",
       "      <th>popularity</th>\n",
       "      <th>duration_ms</th>\n",
       "      <th>explicit</th>\n",
       "      <th>danceability</th>\n",
       "      <th>energy</th>\n",
       "      <th>...</th>\n",
       "      <th>loudness</th>\n",
       "      <th>mode</th>\n",
       "      <th>speechiness</th>\n",
       "      <th>acousticness</th>\n",
       "      <th>instrumentalness</th>\n",
       "      <th>liveness</th>\n",
       "      <th>valence</th>\n",
       "      <th>tempo</th>\n",
       "      <th>time_signature</th>\n",
       "      <th>track_genre</th>\n",
       "    </tr>\n",
       "  </thead>\n",
       "  <tbody>\n",
       "    <tr>\n",
       "      <th>0</th>\n",
       "      <td>0</td>\n",
       "      <td>5SuOikwiRyPMVoIQDJUgSV</td>\n",
       "      <td>Gen Hoshino</td>\n",
       "      <td>Comedy</td>\n",
       "      <td>Comedy</td>\n",
       "      <td>73</td>\n",
       "      <td>230666</td>\n",
       "      <td>False</td>\n",
       "      <td>0.676</td>\n",
       "      <td>0.4610</td>\n",
       "      <td>...</td>\n",
       "      <td>-6.746</td>\n",
       "      <td>0</td>\n",
       "      <td>0.1430</td>\n",
       "      <td>0.0322</td>\n",
       "      <td>0.000001</td>\n",
       "      <td>0.3580</td>\n",
       "      <td>0.715</td>\n",
       "      <td>87.917</td>\n",
       "      <td>4</td>\n",
       "      <td>acoustic</td>\n",
       "    </tr>\n",
       "    <tr>\n",
       "      <th>1</th>\n",
       "      <td>1</td>\n",
       "      <td>4qPNDBW1i3p13qLCt0Ki3A</td>\n",
       "      <td>Ben Woodward</td>\n",
       "      <td>Ghost (Acoustic)</td>\n",
       "      <td>Ghost - Acoustic</td>\n",
       "      <td>55</td>\n",
       "      <td>149610</td>\n",
       "      <td>False</td>\n",
       "      <td>0.420</td>\n",
       "      <td>0.1660</td>\n",
       "      <td>...</td>\n",
       "      <td>-17.235</td>\n",
       "      <td>1</td>\n",
       "      <td>0.0763</td>\n",
       "      <td>0.9240</td>\n",
       "      <td>0.000006</td>\n",
       "      <td>0.1010</td>\n",
       "      <td>0.267</td>\n",
       "      <td>77.489</td>\n",
       "      <td>4</td>\n",
       "      <td>acoustic</td>\n",
       "    </tr>\n",
       "    <tr>\n",
       "      <th>2</th>\n",
       "      <td>2</td>\n",
       "      <td>1iJBSr7s7jYXzM8EGcbK5b</td>\n",
       "      <td>Ingrid Michaelson;ZAYN</td>\n",
       "      <td>To Begin Again</td>\n",
       "      <td>To Begin Again</td>\n",
       "      <td>57</td>\n",
       "      <td>210826</td>\n",
       "      <td>False</td>\n",
       "      <td>0.438</td>\n",
       "      <td>0.3590</td>\n",
       "      <td>...</td>\n",
       "      <td>-9.734</td>\n",
       "      <td>1</td>\n",
       "      <td>0.0557</td>\n",
       "      <td>0.2100</td>\n",
       "      <td>0.000000</td>\n",
       "      <td>0.1170</td>\n",
       "      <td>0.120</td>\n",
       "      <td>76.332</td>\n",
       "      <td>4</td>\n",
       "      <td>acoustic</td>\n",
       "    </tr>\n",
       "    <tr>\n",
       "      <th>3</th>\n",
       "      <td>3</td>\n",
       "      <td>6lfxq3CG4xtTiEg7opyCyx</td>\n",
       "      <td>Kina Grannis</td>\n",
       "      <td>Crazy Rich Asians (Original Motion Picture Sou...</td>\n",
       "      <td>Can't Help Falling In Love</td>\n",
       "      <td>71</td>\n",
       "      <td>201933</td>\n",
       "      <td>False</td>\n",
       "      <td>0.266</td>\n",
       "      <td>0.0596</td>\n",
       "      <td>...</td>\n",
       "      <td>-18.515</td>\n",
       "      <td>1</td>\n",
       "      <td>0.0363</td>\n",
       "      <td>0.9050</td>\n",
       "      <td>0.000071</td>\n",
       "      <td>0.1320</td>\n",
       "      <td>0.143</td>\n",
       "      <td>181.740</td>\n",
       "      <td>3</td>\n",
       "      <td>acoustic</td>\n",
       "    </tr>\n",
       "    <tr>\n",
       "      <th>4</th>\n",
       "      <td>4</td>\n",
       "      <td>5vjLSffimiIP26QG5WcN2K</td>\n",
       "      <td>Chord Overstreet</td>\n",
       "      <td>Hold On</td>\n",
       "      <td>Hold On</td>\n",
       "      <td>82</td>\n",
       "      <td>198853</td>\n",
       "      <td>False</td>\n",
       "      <td>0.618</td>\n",
       "      <td>0.4430</td>\n",
       "      <td>...</td>\n",
       "      <td>-9.681</td>\n",
       "      <td>1</td>\n",
       "      <td>0.0526</td>\n",
       "      <td>0.4690</td>\n",
       "      <td>0.000000</td>\n",
       "      <td>0.0829</td>\n",
       "      <td>0.167</td>\n",
       "      <td>119.949</td>\n",
       "      <td>4</td>\n",
       "      <td>acoustic</td>\n",
       "    </tr>\n",
       "  </tbody>\n",
       "</table>\n",
       "<p>5 rows × 21 columns</p>\n",
       "</div>"
      ],
      "text/plain": [
       "   id                track_id                 artists  \\\n",
       "0   0  5SuOikwiRyPMVoIQDJUgSV             Gen Hoshino   \n",
       "1   1  4qPNDBW1i3p13qLCt0Ki3A            Ben Woodward   \n",
       "2   2  1iJBSr7s7jYXzM8EGcbK5b  Ingrid Michaelson;ZAYN   \n",
       "3   3  6lfxq3CG4xtTiEg7opyCyx            Kina Grannis   \n",
       "4   4  5vjLSffimiIP26QG5WcN2K        Chord Overstreet   \n",
       "\n",
       "                                          album_name  \\\n",
       "0                                             Comedy   \n",
       "1                                   Ghost (Acoustic)   \n",
       "2                                     To Begin Again   \n",
       "3  Crazy Rich Asians (Original Motion Picture Sou...   \n",
       "4                                            Hold On   \n",
       "\n",
       "                   track_name  popularity  duration_ms  explicit  \\\n",
       "0                      Comedy          73       230666     False   \n",
       "1            Ghost - Acoustic          55       149610     False   \n",
       "2              To Begin Again          57       210826     False   \n",
       "3  Can't Help Falling In Love          71       201933     False   \n",
       "4                     Hold On          82       198853     False   \n",
       "\n",
       "   danceability  energy  ...  loudness  mode  speechiness  acousticness  \\\n",
       "0         0.676  0.4610  ...    -6.746     0       0.1430        0.0322   \n",
       "1         0.420  0.1660  ...   -17.235     1       0.0763        0.9240   \n",
       "2         0.438  0.3590  ...    -9.734     1       0.0557        0.2100   \n",
       "3         0.266  0.0596  ...   -18.515     1       0.0363        0.9050   \n",
       "4         0.618  0.4430  ...    -9.681     1       0.0526        0.4690   \n",
       "\n",
       "   instrumentalness  liveness  valence    tempo  time_signature  track_genre  \n",
       "0          0.000001    0.3580    0.715   87.917               4     acoustic  \n",
       "1          0.000006    0.1010    0.267   77.489               4     acoustic  \n",
       "2          0.000000    0.1170    0.120   76.332               4     acoustic  \n",
       "3          0.000071    0.1320    0.143  181.740               3     acoustic  \n",
       "4          0.000000    0.0829    0.167  119.949               4     acoustic  \n",
       "\n",
       "[5 rows x 21 columns]"
      ]
     },
     "metadata": {},
     "output_type": "display_data"
    },
    {
     "data": {
      "text/html": [
       "<div>\n",
       "<style scoped>\n",
       "    .dataframe tbody tr th:only-of-type {\n",
       "        vertical-align: middle;\n",
       "    }\n",
       "\n",
       "    .dataframe tbody tr th {\n",
       "        vertical-align: top;\n",
       "    }\n",
       "\n",
       "    .dataframe thead th {\n",
       "        text-align: right;\n",
       "    }\n",
       "</style>\n",
       "<table border=\"1\" class=\"dataframe\">\n",
       "  <thead>\n",
       "    <tr style=\"text-align: right;\">\n",
       "      <th></th>\n",
       "      <th>user_id</th>\n",
       "      <th>user_name</th>\n",
       "      <th>user_age</th>\n",
       "      <th>user_country</th>\n",
       "      <th>created_at</th>\n",
       "    </tr>\n",
       "  </thead>\n",
       "  <tbody>\n",
       "    <tr>\n",
       "      <th>0</th>\n",
       "      <td>1</td>\n",
       "      <td>Norma Fisher</td>\n",
       "      <td>65</td>\n",
       "      <td>United States</td>\n",
       "      <td>2024-02-07</td>\n",
       "    </tr>\n",
       "    <tr>\n",
       "      <th>1</th>\n",
       "      <td>2</td>\n",
       "      <td>Jorge Sullivan</td>\n",
       "      <td>28</td>\n",
       "      <td>United States</td>\n",
       "      <td>2024-11-28</td>\n",
       "    </tr>\n",
       "    <tr>\n",
       "      <th>2</th>\n",
       "      <td>3</td>\n",
       "      <td>Elizabeth Woods</td>\n",
       "      <td>19</td>\n",
       "      <td>United States</td>\n",
       "      <td>2024-11-16</td>\n",
       "    </tr>\n",
       "    <tr>\n",
       "      <th>3</th>\n",
       "      <td>4</td>\n",
       "      <td>Susan Wagner</td>\n",
       "      <td>45</td>\n",
       "      <td>United States</td>\n",
       "      <td>2024-06-14</td>\n",
       "    </tr>\n",
       "    <tr>\n",
       "      <th>4</th>\n",
       "      <td>5</td>\n",
       "      <td>Peter Montgomery</td>\n",
       "      <td>61</td>\n",
       "      <td>United States</td>\n",
       "      <td>2024-07-24</td>\n",
       "    </tr>\n",
       "  </tbody>\n",
       "</table>\n",
       "</div>"
      ],
      "text/plain": [
       "   user_id         user_name  user_age   user_country  created_at\n",
       "0        1      Norma Fisher        65  United States  2024-02-07\n",
       "1        2    Jorge Sullivan        28  United States  2024-11-28\n",
       "2        3   Elizabeth Woods        19  United States  2024-11-16\n",
       "3        4      Susan Wagner        45  United States  2024-06-14\n",
       "4        5  Peter Montgomery        61  United States  2024-07-24"
      ]
     },
     "metadata": {},
     "output_type": "display_data"
    },
    {
     "data": {
      "text/html": [
       "<div>\n",
       "<style scoped>\n",
       "    .dataframe tbody tr th:only-of-type {\n",
       "        vertical-align: middle;\n",
       "    }\n",
       "\n",
       "    .dataframe tbody tr th {\n",
       "        vertical-align: top;\n",
       "    }\n",
       "\n",
       "    .dataframe thead th {\n",
       "        text-align: right;\n",
       "    }\n",
       "</style>\n",
       "<table border=\"1\" class=\"dataframe\">\n",
       "  <thead>\n",
       "    <tr style=\"text-align: right;\">\n",
       "      <th></th>\n",
       "      <th>user_id</th>\n",
       "      <th>track_id</th>\n",
       "      <th>listen_time</th>\n",
       "    </tr>\n",
       "  </thead>\n",
       "  <tbody>\n",
       "    <tr>\n",
       "      <th>0</th>\n",
       "      <td>26213</td>\n",
       "      <td>4dBa8T7oDV9WvGr7kVS4Ez</td>\n",
       "      <td>2024-06-25 17:43:13</td>\n",
       "    </tr>\n",
       "    <tr>\n",
       "      <th>1</th>\n",
       "      <td>6937</td>\n",
       "      <td>4osgfFTICMkcGbbigdsa53</td>\n",
       "      <td>2024-06-25 07:26:00</td>\n",
       "    </tr>\n",
       "    <tr>\n",
       "      <th>2</th>\n",
       "      <td>21407</td>\n",
       "      <td>2LoQWx41KeqOrSFra089YS</td>\n",
       "      <td>2024-06-25 13:25:26</td>\n",
       "    </tr>\n",
       "    <tr>\n",
       "      <th>3</th>\n",
       "      <td>47146</td>\n",
       "      <td>7cfG5lFeJWEgpSnubt4O4W</td>\n",
       "      <td>2024-06-25 18:17:50</td>\n",
       "    </tr>\n",
       "    <tr>\n",
       "      <th>4</th>\n",
       "      <td>38594</td>\n",
       "      <td>6tilCYbheGMHo3Hw4F22hF</td>\n",
       "      <td>2024-06-25 17:33:21</td>\n",
       "    </tr>\n",
       "  </tbody>\n",
       "</table>\n",
       "</div>"
      ],
      "text/plain": [
       "   user_id                track_id          listen_time\n",
       "0    26213  4dBa8T7oDV9WvGr7kVS4Ez  2024-06-25 17:43:13\n",
       "1     6937  4osgfFTICMkcGbbigdsa53  2024-06-25 07:26:00\n",
       "2    21407  2LoQWx41KeqOrSFra089YS  2024-06-25 13:25:26\n",
       "3    47146  7cfG5lFeJWEgpSnubt4O4W  2024-06-25 18:17:50\n",
       "4    38594  6tilCYbheGMHo3Hw4F22hF  2024-06-25 17:33:21"
      ]
     },
     "metadata": {},
     "output_type": "display_data"
    },
    {
     "data": {
      "text/plain": [
       "(None, None, None)"
      ]
     },
     "execution_count": 16,
     "metadata": {},
     "output_type": "execute_result"
    }
   ],
   "source": [
    "display(df_songs.head()), display(df_users.head()), display(df_streams.head())"
   ]
  },
  {
   "cell_type": "code",
   "execution_count": 17,
   "id": "39dd750b",
   "metadata": {},
   "outputs": [],
   "source": [
    "# change data type"
   ]
  },
  {
   "cell_type": "code",
   "execution_count": 18,
   "id": "fc6c6f54",
   "metadata": {},
   "outputs": [],
   "source": [
    "# check for missing values"
   ]
  },
  {
   "cell_type": "code",
   "execution_count": 19,
   "id": "660d82a9",
   "metadata": {},
   "outputs": [],
   "source": [
    "# handle missing values if exists"
   ]
  },
  {
   "cell_type": "code",
   "execution_count": 20,
   "id": "12982a66",
   "metadata": {},
   "outputs": [],
   "source": [
    "# check for duplicate data"
   ]
  },
  {
   "cell_type": "code",
   "execution_count": 21,
   "id": "93f05fcd",
   "metadata": {},
   "outputs": [],
   "source": [
    "# handle duplicate if exists"
   ]
  },
  {
   "cell_type": "markdown",
   "id": "b3072e28",
   "metadata": {},
   "source": [
    "#### Join"
   ]
  },
  {
   "cell_type": "code",
   "execution_count": 22,
   "id": "f8e4e87a",
   "metadata": {},
   "outputs": [],
   "source": [
    "# main table for analysis\n",
    "streams_full_clean_analysis = df_streams.merge(df_users, on=\"user_id\", how=\"inner\") \\\n",
    "                                        .merge(df_songs, on=\"track_id\", how=\"inner\")\n",
    "\n",
    "# temp table for completeness\n",
    "streams_full_archieve = df_streams.merge(df_users, on=\"user_id\", how=\"left\") \\\n",
    "                                  .merge(df_songs, on=\"track_id\", how=\"left\")"
   ]
  },
  {
   "cell_type": "markdown",
   "id": "a52977b3",
   "metadata": {},
   "source": [
    "#### Genre-level KPIs"
   ]
  },
  {
   "cell_type": "code",
   "execution_count": null,
   "id": "8935d994",
   "metadata": {},
   "outputs": [],
   "source": []
  },
  {
   "cell_type": "markdown",
   "id": "3302b559",
   "metadata": {},
   "source": [
    "#### Hourly-level KPIs"
   ]
  },
  {
   "cell_type": "code",
   "execution_count": null,
   "id": "abfb1abc",
   "metadata": {},
   "outputs": [],
   "source": []
  },
  {
   "cell_type": "markdown",
   "id": "a878a1ee",
   "metadata": {},
   "source": [
    "#### User behaviour"
   ]
  },
  {
   "cell_type": "code",
   "execution_count": null,
   "id": "c947c0b2",
   "metadata": {},
   "outputs": [],
   "source": []
  },
  {
   "cell_type": "markdown",
   "id": "ea32c682",
   "metadata": {},
   "source": [
    "#### Track popularity summary"
   ]
  },
  {
   "cell_type": "code",
   "execution_count": null,
   "id": "2cce0360",
   "metadata": {},
   "outputs": [],
   "source": []
  },
  {
   "cell_type": "markdown",
   "id": "81e6e53b",
   "metadata": {},
   "source": [
    "#### Daily active users"
   ]
  },
  {
   "cell_type": "code",
   "execution_count": null,
   "id": "89f075cf",
   "metadata": {},
   "outputs": [],
   "source": []
  },
  {
   "cell_type": "markdown",
   "id": "fbaea5da",
   "metadata": {},
   "source": [
    "#### Fact_streaming"
   ]
  },
  {
   "cell_type": "code",
   "execution_count": null,
   "id": "6fbf716b",
   "metadata": {},
   "outputs": [],
   "source": []
  },
  {
   "cell_type": "markdown",
   "id": "2e59c824",
   "metadata": {},
   "source": [
    "#### Dim_songs & Dim_users"
   ]
  },
  {
   "cell_type": "code",
   "execution_count": null,
   "id": "c75327e2",
   "metadata": {},
   "outputs": [],
   "source": []
  }
 ],
 "metadata": {
  "kernelspec": {
   "display_name": "spotify_pipeline_env",
   "language": "python",
   "name": "python3"
  },
  "language_info": {
   "codemirror_mode": {
    "name": "ipython",
    "version": 3
   },
   "file_extension": ".py",
   "mimetype": "text/x-python",
   "name": "python",
   "nbconvert_exporter": "python",
   "pygments_lexer": "ipython3",
   "version": "3.12.0"
  }
 },
 "nbformat": 4,
 "nbformat_minor": 5
}
